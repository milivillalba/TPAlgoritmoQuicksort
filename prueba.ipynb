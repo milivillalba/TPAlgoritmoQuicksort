{
 "cells": [
  {
   "cell_type": "markdown",
   "metadata": {},
   "source": [
    "# Implementación del Algoritmo Quicksort en Python"
   ]
  },
  {
   "cell_type": "markdown",
   "metadata": {},
   "source": [
    "## Prueba del codigo :"
   ]
  },
  {
   "cell_type": "code",
   "execution_count": 1,
   "metadata": {},
   "outputs": [
    {
     "name": "stdout",
     "output_type": "stream",
     "text": [
      "Ordenar Lista Ascedente: [1, 2, 3, 4, 5, 6, 7, 8, 9, 10]\n",
      "Ordenar Lista Descendente: [1, 2, 3, 4, 5, 6, 7, 8, 9, 10]\n",
      "Ordenar Lista Repetidos: [1, 2, 2, 3, 4, 4, 5]\n",
      "Ordenar Lista Desordenada: [1, 2, 3, 4, 5, 6]\n"
     ]
    }
   ],
   "source": [
    "\n",
    "def quicksort(array):\n",
    "    if len(array) <= 1:\n",
    "        return array\n",
    "    \n",
    "    pivote = array[0]\n",
    "\n",
    "    izquierda = [x for x in array[1:] if x < pivote]\n",
    "    derecha = [x for x in array[1:] if x >= pivote]\n",
    "\n",
    "    return quicksort(izquierda) + [pivote] + quicksort(derecha)\n",
    "\n",
    "#PRUEBAS:\n",
    "\n",
    "print(\"Ordenar Lista Ascedente:\", quicksort([1, 2, 3, 4, 5, 6, 7, 8, 9, 10]))\n",
    "\n",
    "print(\"Ordenar Lista Descendente:\",quicksort([10, 9, 8, 7, 6, 5, 4, 3, 2, 1]))\n",
    "\n",
    "print(\"Ordenar Lista Repetidos:\",quicksort([2,2,1,3,4,4,5]))\n",
    "\n",
    "print(\"Ordenar Lista Desordenada:\",quicksort([6,4,5,3,1,2]))\n",
    "\n"
   ]
  }
 ],
 "metadata": {
  "kernelspec": {
   "display_name": "Python 3",
   "language": "python",
   "name": "python3"
  },
  "language_info": {
   "codemirror_mode": {
    "name": "ipython",
    "version": 3
   },
   "file_extension": ".py",
   "mimetype": "text/x-python",
   "name": "python",
   "nbconvert_exporter": "python",
   "pygments_lexer": "ipython3",
   "version": "3.12.3"
  }
 },
 "nbformat": 4,
 "nbformat_minor": 2
}
